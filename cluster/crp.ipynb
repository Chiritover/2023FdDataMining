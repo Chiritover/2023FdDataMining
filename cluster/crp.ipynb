{
 "cells": [
  {
   "cell_type": "code",
   "execution_count": null,
   "metadata": {},
   "outputs": [],
   "source": [
    "def Chinese_Restaurant_Process(num_of_customers, alpha):\n",
    "    table_assignments[1] = table[1] #the first customer sits on the first table\n",
    "    next_open_table = 1 #index of the next empty table\n",
    "  \n",
    "    for i in num_of_customers:\n",
    "        if rand < alpha / (alpha + i)\n",
    "            #customer sits at a new table\n",
    "            table_assignments[i] = next_open_table\n",
    "            next_open_table += 1\n",
    "        else\n",
    "            # Customer sits at an existing table.\n",
    "            # He chooses which table to sit at by giving equal weight to each\n",
    "            table_assighments[i] = table_assignments[rand(table_assiments.size)]\n",
    "    return table_assiments"
   ]
  }
 ],
 "metadata": {
  "language_info": {
   "name": "python"
  },
  "orig_nbformat": 4
 },
 "nbformat": 4,
 "nbformat_minor": 2
}
